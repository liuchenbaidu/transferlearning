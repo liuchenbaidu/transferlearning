{
 "cells": [
  {
   "cell_type": "code",
   "execution_count": 1,
   "metadata": {},
   "outputs": [
    {
     "name": "stdout",
     "output_type": "stream",
     "text": [
      "directory: /home/liuchen/jupyterprj/transferlearning\n"
     ]
    }
   ],
   "source": [
    "####\n",
    "####  ---------------微调--------利用已有的训练好的模型，在小样本上微调。\n",
    "####\n",
    "\n",
    "import os \n",
    "print('directory:',os.getcwd())#知道路径，以免访问文件时候出错。"
   ]
  },
  {
   "cell_type": "code",
   "execution_count": 2,
   "metadata": {},
   "outputs": [
    {
     "name": "stderr",
     "output_type": "stream",
     "text": [
      "Using TensorFlow backend.\n"
     ]
    }
   ],
   "source": [
    "##导入base_model\n",
    "from keras.applications.inception_v3 import InceptionV3\n",
    "base_model=InceptionV3(weights='imagenet',include_top=False)"
   ]
  },
  {
   "cell_type": "code",
   "execution_count": 3,
   "metadata": {},
   "outputs": [
    {
     "name": "stdout",
     "output_type": "stream",
     "text": [
      "WARNING:tensorflow:From /home/liuchen/anaconda3/envs/python3/lib/python3.6/site-packages/keras/backend/tensorflow_backend.py:1290: calling reduce_mean (from tensorflow.python.ops.math_ops) with keep_dims is deprecated and will be removed in a future version.\n",
      "Instructions for updating:\n",
      "keep_dims is deprecated, use keepdims instead\n"
     ]
    },
    {
     "name": "stderr",
     "output_type": "stream",
     "text": [
      "/home/liuchen/anaconda3/envs/python3/lib/python3.6/site-packages/ipykernel_launcher.py:8: UserWarning: Update your `Model` call to the Keras 2 API: `Model(inputs=Tensor(\"in..., outputs=Tensor(\"de...)`\n",
      "  \n"
     ]
    }
   ],
   "source": [
    "import sys\n",
    "from keras.layers import GlobalAveragePooling2D,Dense\n",
    "from keras.models import Model\n",
    "x=base_model.output\n",
    "x=GlobalAveragePooling2D()(x)\n",
    "x=Dense(1024,activation='relu')(x)\n",
    "predictions=Dense(5,activation='softmax')(x)\n",
    "model=Model(inputs=base_model.input,output=predictions)"
   ]
  },
  {
   "cell_type": "code",
   "execution_count": 7,
   "metadata": {},
   "outputs": [],
   "source": [
    "from keras.optimizers import Adagrad\n",
    "def setup_to_fine_tune(model,base_model):\n",
    "    GAP_LAYER=17\n",
    "    for layer in base_model.layers[:GAP_LAYER+1]:\n",
    "        layer.trainable=False\n",
    "    for layer in base_model.layers[GAP_LAYER+1:]:\n",
    "        layer.trainable=True\n",
    "    model.compile(optimizer=Adagrad(lr=0.0001),loss='categorical_crossentropy',metrics=['accuracy'])\n",
    "setup_to_fine_tune(model=model,base_model=base_model)"
   ]
  },
  {
   "cell_type": "code",
   "execution_count": 8,
   "metadata": {},
   "outputs": [
    {
     "name": "stdout",
     "output_type": "stream",
     "text": [
      "Found 400 images belonging to 5 classes.\n",
      "Found 100 images belonging to 5 classes.\n"
     ]
    }
   ],
   "source": [
    "##########数据准备\n",
    "####处理数据\n",
    "from keras.preprocessing.image import ImageDataGenerator\n",
    "train_datagen = ImageDataGenerator(\n",
    "        rescale=1./255,\n",
    "        shear_range=0.2,\n",
    "        zoom_range=0.2,\n",
    "        horizontal_flip=True)\n",
    "\n",
    "test_datagen = ImageDataGenerator(rescale=1./255)\n",
    "\n",
    "train_generator = train_datagen.flow_from_directory(\n",
    "        './re/train', \n",
    "        target_size=(150, 150),  # all images will be resized to 150x150\n",
    "        batch_size=32,\n",
    "        class_mode='categorical')                               # matt，多分类\n",
    "\n",
    "validation_generator = test_datagen.flow_from_directory(\n",
    "        './re/test',\n",
    "        target_size=(150, 150),\n",
    "        batch_size=32,\n",
    "        class_mode='categorical') "
   ]
  },
  {
   "cell_type": "code",
   "execution_count": null,
   "metadata": {},
   "outputs": [
    {
     "name": "stdout",
     "output_type": "stream",
     "text": [
      "Epoch 1/2\n",
      "10/10 [==============================] - 38s - loss: 0.0799 - acc: 0.9969 - val_loss: 0.0027 - val_acc: 1.0000\n",
      "Epoch 2/2\n",
      " 8/10 [=======================>......] - ETA: 6s - loss: 0.0486 - acc: 0.9961 "
     ]
    }
   ],
   "source": [
    "###########训练模型\n",
    "history_ft = model.fit_generator(generator=train_generator,\n",
    "                                 steps_per_epoch=10, \n",
    "                                 epochs=2, \n",
    "                                 validation_data=validation_generator, \n",
    "                                 validation_steps=5, \n",
    "                                 class_weight='auto')\n",
    "\n",
    "\n",
    "# history_ft = model.fit_generator(train_generator,\n",
    "#     nb_epoch=1,\n",
    "#     samples_per_epoch=50,\n",
    "#     validation_data=validation_generator,\n",
    "#     nb_val_samples=50,\n",
    "#     class_weight='auto')\n",
    "# model.save('./flowers17_iv3_ft.h5')\n"
   ]
  }
 ],
 "metadata": {
  "kernelspec": {
   "display_name": "python(python3)",
   "language": "python",
   "name": "python3"
  },
  "language_info": {
   "codemirror_mode": {
    "name": "ipython",
    "version": 3
   },
   "file_extension": ".py",
   "mimetype": "text/x-python",
   "name": "python",
   "nbconvert_exporter": "python",
   "pygments_lexer": "ipython3",
   "version": "3.6.7"
  }
 },
 "nbformat": 4,
 "nbformat_minor": 2
}
