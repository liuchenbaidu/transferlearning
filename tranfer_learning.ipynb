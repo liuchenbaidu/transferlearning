{
 "cells": [
  {
   "cell_type": "code",
   "execution_count": 1,
   "metadata": {},
   "outputs": [
    {
     "name": "stdout",
     "output_type": "stream",
     "text": [
      "/home/liuchen/jupyterprj/transferlearning\n"
     ]
    }
   ],
   "source": [
    "import os \n",
    "print(os.getcwd())"
   ]
  },
  {
   "cell_type": "code",
   "execution_count": 2,
   "metadata": {},
   "outputs": [
    {
     "name": "stderr",
     "output_type": "stream",
     "text": [
      "Using TensorFlow backend.\n"
     ]
    },
    {
     "name": "stdout",
     "output_type": "stream",
     "text": [
      "Found 400 images belonging to 5 classes.\n",
      "Found 100 images belonging to 5 classes.\n"
     ]
    }
   ],
   "source": [
    "####处理数据\n",
    "from keras.preprocessing.image import ImageDataGenerator\n",
    "train_datagen = ImageDataGenerator(\n",
    "        rescale=1./255,\n",
    "        shear_range=0.2,\n",
    "        zoom_range=0.2,\n",
    "        horizontal_flip=True)\n",
    "\n",
    "test_datagen = ImageDataGenerator(rescale=1./255)\n",
    "\n",
    "train_generator = train_datagen.flow_from_directory(\n",
    "        './re/train', \n",
    "        target_size=(150, 150),  # all images will be resized to 150x150\n",
    "        batch_size=32,\n",
    "        class_mode='categorical')                               # matt，多分类\n",
    "\n",
    "validation_generator = test_datagen.flow_from_directory(\n",
    "        './re/test',\n",
    "        target_size=(150, 150),\n",
    "        batch_size=32,\n",
    "        class_mode='categorical')                             # matt，多分类\n",
    "# class_mode='binary'"
   ]
  },
  {
   "cell_type": "code",
   "execution_count": 3,
   "metadata": {},
   "outputs": [],
   "source": [
    "#迁移学习\n",
    "\n",
    "from keras.applications.inception_v3 import InceptionV3, preprocess_input\n",
    "base_model = InceptionV3(weights='imagenet', include_top=False)"
   ]
  },
  {
   "cell_type": "code",
   "execution_count": 4,
   "metadata": {},
   "outputs": [
    {
     "name": "stdout",
     "output_type": "stream",
     "text": [
      "<class 'keras.engine.training.Model'>\n",
      "WARNING:tensorflow:From /home/liuchen/anaconda3/envs/python3/lib/python3.6/site-packages/keras/backend/tensorflow_backend.py:1290: calling reduce_mean (from tensorflow.python.ops.math_ops) with keep_dims is deprecated and will be removed in a future version.\n",
      "Instructions for updating:\n",
      "keep_dims is deprecated, use keepdims instead\n"
     ]
    },
    {
     "name": "stderr",
     "output_type": "stream",
     "text": [
      "/home/liuchen/anaconda3/envs/python3/lib/python3.6/site-packages/ipykernel_launcher.py:16: UserWarning: Update your `Model` call to the Keras 2 API: `Model(inputs=Tensor(\"in..., outputs=Tensor(\"de...)`\n",
      "  app.launch_new_instance()\n"
     ]
    }
   ],
   "source": [
    "from keras.layers import Dense, GlobalAveragePooling2D\n",
    "from keras.models import Model\n",
    "\n",
    "def add_new_last_layer(base_model, nb_classes):\n",
    "#       \"\"\"Add last layer to the convnet\n",
    "#       Args:\n",
    "#         base_model: keras model excluding top\n",
    "#         nb_classes: # of classes\n",
    "#       Returns:\n",
    "#         new keras model with last layer\n",
    "#       \"\"\"\n",
    "    x = base_model.output\n",
    "    x = GlobalAveragePooling2D()(x)\n",
    "    x = Dense(FC_SIZE, activation='relu')(x) #new FC layer, random init\n",
    "    predictions = Dense(nb_classes, activation='softmax')(x) #new softmax layer\n",
    "    model = Model(input=base_model.input, output=predictions)\n",
    "    return model\n",
    "\n",
    "\n",
    "print(type(base_model))\n",
    "nb_classes=5\n",
    "FC_SIZE = 1024\n",
    "model = add_new_last_layer(base_model, nb_classes)"
   ]
  },
  {
   "cell_type": "code",
   "execution_count": 5,
   "metadata": {},
   "outputs": [
    {
     "name": "stdout",
     "output_type": "stream",
     "text": [
      "<class 'keras.engine.training.Model'>\n",
      "WARNING:tensorflow:From /home/liuchen/anaconda3/envs/python3/lib/python3.6/site-packages/keras/backend/tensorflow_backend.py:2755: calling reduce_sum (from tensorflow.python.ops.math_ops) with keep_dims is deprecated and will be removed in a future version.\n",
      "Instructions for updating:\n",
      "keep_dims is deprecated, use keepdims instead\n"
     ]
    }
   ],
   "source": [
    "def setup_to_transfer_learn(model, base_model):\n",
    "#     \"\"\"Freeze all layers and compile the model\"\"\"\n",
    "    print(type(model))\n",
    "    for layer in base_model.layers:\n",
    "        layer.trainable = False\n",
    "    model.compile(optimizer='rmsprop', loss='categorical_crossentropy', metrics=['accuracy'])\n",
    "\n",
    "setup_to_transfer_learn(model=model,base_model=base_model)"
   ]
  },
  {
   "cell_type": "code",
   "execution_count": 6,
   "metadata": {},
   "outputs": [
    {
     "name": "stderr",
     "output_type": "stream",
     "text": [
      "/home/liuchen/anaconda3/envs/python3/lib/python3.6/site-packages/ipykernel_launcher.py:7: UserWarning: The semantics of the Keras 2 argument `steps_per_epoch` is not the same as the Keras 1 argument `samples_per_epoch`. `steps_per_epoch` is the number of batches to draw from the generator at each epoch. Basically steps_per_epoch = samples_per_epoch/batch_size. Similarly `nb_val_samples`->`validation_steps` and `val_samples`->`steps` arguments have changed. Update your method calls accordingly.\n",
      "  import sys\n",
      "/home/liuchen/anaconda3/envs/python3/lib/python3.6/site-packages/ipykernel_launcher.py:7: UserWarning: Update your `fit_generator` call to the Keras 2 API: `fit_generator(<keras.pre..., validation_data=<keras.pre..., class_weight=\"auto\", steps_per_epoch=15, epochs=10, validation_steps=200)`\n",
      "  import sys\n"
     ]
    },
    {
     "name": "stdout",
     "output_type": "stream",
     "text": [
      "Epoch 1/10\n",
      "15/15 [==============================] - 233s - loss: 3.3456 - acc: 0.4933 - val_loss: 4.9558 - val_acc: 0.5100\n",
      "Epoch 2/10\n",
      "15/15 [==============================] - 229s - loss: 0.4001 - acc: 0.8852 - val_loss: 0.1316 - val_acc: 0.9698\n",
      "Epoch 3/10\n",
      "15/15 [==============================] - 230s - loss: 0.4270 - acc: 0.8629 - val_loss: 4.1781 - val_acc: 0.5000\n",
      "Epoch 4/10\n",
      "15/15 [==============================] - 229s - loss: 0.2598 - acc: 0.9374 - val_loss: 0.0937 - val_acc: 0.9702\n",
      "Epoch 5/10\n",
      "15/15 [==============================] - 231s - loss: 0.3396 - acc: 0.9065 - val_loss: 1.9400 - val_acc: 0.8500\n",
      "Epoch 6/10\n",
      "15/15 [==============================] - 230s - loss: 0.3497 - acc: 0.9209 - val_loss: 0.0568 - val_acc: 0.9900\n",
      "Epoch 7/10\n",
      "15/15 [==============================] - 229s - loss: 0.1703 - acc: 0.9732 - val_loss: 0.3567 - val_acc: 0.9700\n",
      "Epoch 8/10\n",
      "15/15 [==============================] - 230s - loss: 0.0937 - acc: 0.9770 - val_loss: 0.7309 - val_acc: 0.8506\n",
      "Epoch 9/10\n",
      "15/15 [==============================] - 231s - loss: 0.1169 - acc: 0.9603 - val_loss: 0.6338 - val_acc: 0.9000\n",
      "Epoch 10/10\n",
      "15/15 [==============================] - 228s - loss: 0.4797 - acc: 0.9166 - val_loss: 0.2568 - val_acc: 0.9302\n"
     ]
    }
   ],
   "source": [
    " history_tl = model.fit_generator(\n",
    "    train_generator,\n",
    "    nb_epoch=10,\n",
    "    samples_per_epoch=500,\n",
    "    validation_data=validation_generator,\n",
    "    nb_val_samples=200,\n",
    "    class_weight='auto')"
   ]
  },
  {
   "cell_type": "code",
   "execution_count": 9,
   "metadata": {},
   "outputs": [
    {
     "name": "stdout",
     "output_type": "stream",
     "text": [
      "/home/liuchen/jupyterprj/transferlearning\n",
      "[[0.02023092 0.08731461 0.83536935 0.04406026 0.01302483]]\n"
     ]
    }
   ],
   "source": [
    "###预测\n",
    "from keras.preprocessing import image\n",
    "from PIL import Image\n",
    "import numpy as np\n",
    "\n",
    "\n",
    "print(os.getcwd())\n",
    "img='300.jpg'\n",
    "img=Image.open(img)\n",
    "x = image.img_to_array(img)\n",
    "x = np.expand_dims(x, axis=0)\n",
    "x = preprocess_input(x)\n",
    "preds = model.predict(x)\n",
    "print(preds)"
   ]
  }
 ],
 "metadata": {
  "kernelspec": {
   "display_name": "python(python3)",
   "language": "python",
   "name": "python3"
  },
  "language_info": {
   "codemirror_mode": {
    "name": "ipython",
    "version": 3
   },
   "file_extension": ".py",
   "mimetype": "text/x-python",
   "name": "python",
   "nbconvert_exporter": "python",
   "pygments_lexer": "ipython3",
   "version": "3.6.7"
  }
 },
 "nbformat": 4,
 "nbformat_minor": 2
}
